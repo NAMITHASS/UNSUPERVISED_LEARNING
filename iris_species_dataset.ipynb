{
  "nbformat": 4,
  "nbformat_minor": 0,
  "metadata": {
    "colab": {
      "provenance": [],
      "authorship_tag": "ABX9TyM7Az5TeOjQyNAMjqIyeVg+",
      "include_colab_link": true
    },
    "kernelspec": {
      "name": "python3",
      "display_name": "Python 3"
    },
    "language_info": {
      "name": "python"
    }
  },
  "cells": [
    {
      "cell_type": "markdown",
      "metadata": {
        "id": "view-in-github",
        "colab_type": "text"
      },
      "source": [
        "<a href=\"https://colab.research.google.com/github/NAMITHASS/UNSUPERVISIED_LEARNING/blob/main/iris_species_dataset.ipynb\" target=\"_parent\"><img src=\"https://colab.research.google.com/assets/colab-badge.svg\" alt=\"Open In Colab\"/></a>"
      ]
    },
    {
      "cell_type": "code",
      "execution_count": null,
      "metadata": {
        "id": "CgR2uRcP3i79"
      },
      "outputs": [],
      "source": [
        "#machine hack event check\n",
        "import numpy as np\n",
        "import pandas as pd\n",
        "import matplotlib.pyplot as plt"
      ]
    },
    {
      "cell_type": "code",
      "source": [
        "df=pd.read_csv(\"/content/Iris.csv\")"
      ],
      "metadata": {
        "id": "r3vLDnsK3sKR"
      },
      "execution_count": null,
      "outputs": []
    },
    {
      "cell_type": "code",
      "source": [
        "df"
      ],
      "metadata": {
        "id": "BDa48Y1Q9rHQ"
      },
      "execution_count": null,
      "outputs": []
    },
    {
      "cell_type": "code",
      "source": [
        "df.head(10)"
      ],
      "metadata": {
        "id": "6dnKYUjI334b"
      },
      "execution_count": null,
      "outputs": []
    },
    {
      "cell_type": "code",
      "source": [
        "df.info()"
      ],
      "metadata": {
        "colab": {
          "base_uri": "https://localhost:8080/"
        },
        "id": "a3jsaNYn348W",
        "outputId": "9ae1c68a-c158-41fe-888b-6de63fd87481"
      },
      "execution_count": null,
      "outputs": [
        {
          "output_type": "stream",
          "name": "stdout",
          "text": [
            "<class 'pandas.core.frame.DataFrame'>\n",
            "RangeIndex: 150 entries, 0 to 149\n",
            "Data columns (total 6 columns):\n",
            " #   Column         Non-Null Count  Dtype  \n",
            "---  ------         --------------  -----  \n",
            " 0   Id             150 non-null    int64  \n",
            " 1   SepalLengthCm  150 non-null    float64\n",
            " 2   SepalWidthCm   150 non-null    float64\n",
            " 3   PetalLengthCm  150 non-null    float64\n",
            " 4   PetalWidthCm   150 non-null    float64\n",
            " 5   Species        150 non-null    object \n",
            "dtypes: float64(4), int64(1), object(1)\n",
            "memory usage: 7.2+ KB\n"
          ]
        }
      ]
    },
    {
      "cell_type": "code",
      "source": [
        "df.set_index(\"Id\",inplace=True)"
      ],
      "metadata": {
        "id": "RttiVUCD6mQ-"
      },
      "execution_count": null,
      "outputs": []
    },
    {
      "cell_type": "code",
      "source": [
        "df['Species'].value_counts()"
      ],
      "metadata": {
        "colab": {
          "base_uri": "https://localhost:8080/"
        },
        "id": "crFvWmnGXvNk",
        "outputId": "36cb09b9-5a5c-411a-a16c-881b394c3aab"
      },
      "execution_count": null,
      "outputs": [
        {
          "output_type": "execute_result",
          "data": {
            "text/plain": [
              "Iris-setosa        50\n",
              "Iris-versicolor    50\n",
              "Iris-virginica     50\n",
              "Name: Species, dtype: int64"
            ]
          },
          "metadata": {},
          "execution_count": 37
        }
      ]
    },
    {
      "cell_type": "code",
      "source": [
        "from sklearn.preprocessing import LabelEncoder\n",
        "en=LabelEncoder()\n",
        "df['Species']=en.fit_transform(df.Species)"
      ],
      "metadata": {
        "id": "pY33obrhXzGz"
      },
      "execution_count": null,
      "outputs": []
    },
    {
      "cell_type": "code",
      "source": [
        "x_train=df['Species']"
      ],
      "metadata": {
        "id": "QCgIhaiAX4gy"
      },
      "execution_count": null,
      "outputs": []
    },
    {
      "cell_type": "code",
      "source": [
        "df.drop(labels='Species',axis=1,inplace=True)"
      ],
      "metadata": {
        "id": "fuTkR8OoWV1f"
      },
      "execution_count": null,
      "outputs": []
    },
    {
      "cell_type": "code",
      "source": [
        "x_test=df"
      ],
      "metadata": {
        "id": "tdIvuTg4WVvx"
      },
      "execution_count": null,
      "outputs": []
    },
    {
      "cell_type": "code",
      "source": [
        "from sklearn.model_selection import train_test_split\n",
        "x_train_sub,x_validation_sub,y_train_sub,y_validation_sub=train_test_split(x_test,x_train,random_state=0)"
      ],
      "metadata": {
        "id": "QpaMCYbqWVpZ"
      },
      "execution_count": null,
      "outputs": []
    },
    {
      "cell_type": "code",
      "source": [
        "from sklearn.ensemble import GradientBoostingClassifier\n",
        "from sklearn.metrics import classification_report,confusion_matrix"
      ],
      "metadata": {
        "id": "29QgieDcYH_L"
      },
      "execution_count": null,
      "outputs": []
    },
    {
      "cell_type": "code",
      "source": [
        "learning_rates=[0.05,0.1,0.25,0.75,1]\n",
        "for learning_rate in learning_rates:\n",
        "  gb=GradientBoostingClassifier(n_estimators=20,learning_rate=learning_rate,max_features=2,max_depth=2,random_state=0)\n",
        "  gb.fit(x_train_sub,y_train_sub)\n",
        "  print(\"Learning rate: \",learning_rate)\n",
        "  print(\"Accuracy score (training):{0:.3f}\".format(gb.score(x_train_sub,y_train_sub)))\n",
        "  print(\"Accuracy acore (validation):{0:.3f}\".format(gb.score(x_validation_sub,y_validation_sub)))"
      ],
      "metadata": {
        "colab": {
          "base_uri": "https://localhost:8080/"
        },
        "id": "0dRD6g40YLSI",
        "outputId": "31e9c728-d53b-47c5-f563-b0f0d57f5ec1"
      },
      "execution_count": null,
      "outputs": [
        {
          "output_type": "stream",
          "name": "stdout",
          "text": [
            "Learning rate:  0.05\n",
            "Accuracy score (training):0.982\n",
            "Accuracy acore (validation):0.974\n",
            "Learning rate:  0.1\n",
            "Accuracy score (training):0.982\n",
            "Accuracy acore (validation):0.974\n",
            "Learning rate:  0.25\n",
            "Accuracy score (training):1.000\n",
            "Accuracy acore (validation):0.974\n",
            "Learning rate:  0.75\n",
            "Accuracy score (training):1.000\n",
            "Accuracy acore (validation):0.974\n",
            "Learning rate:  1\n",
            "Accuracy score (training):1.000\n",
            "Accuracy acore (validation):0.974\n"
          ]
        }
      ]
    },
    {
      "cell_type": "code",
      "source": [
        "from sklearn.ensemble import AdaBoostClassifier\n",
        "from sklearn.metrics import classification_report,confusion_matrix"
      ],
      "metadata": {
        "id": "kA75qgdeYeMu"
      },
      "execution_count": null,
      "outputs": []
    },
    {
      "cell_type": "code",
      "source": [
        "learning_rates=[0.05,0.1,0.25,0.75,1]\n",
        "for learning_rate in learning_rates:\n",
        "  gb=AdaBoostClassifier(n_estimators=100,random_state=0)\n",
        "  gb.fit(x_train_sub,y_train_sub)\n",
        "  print(\"Learning rate: \",learning_rate)\n",
        "  print(\"Accuracy score (training):{0:.3f}\".format(gb.score(x_train_sub,y_train_sub)))\n",
        "  print(\"Accuracy acore (validation):{0:.3f}\".format(gb.score(x_validation_sub,y_validation_sub)))"
      ],
      "metadata": {
        "colab": {
          "base_uri": "https://localhost:8080/"
        },
        "id": "CpcodwKtYeJP",
        "outputId": "4921eae2-9bf6-4a0c-a555-7321744c9bae"
      },
      "execution_count": null,
      "outputs": [
        {
          "output_type": "stream",
          "name": "stdout",
          "text": [
            "Learning rate:  0.05\n",
            "Accuracy score (training):0.938\n",
            "Accuracy acore (validation):0.895\n",
            "Learning rate:  0.1\n",
            "Accuracy score (training):0.938\n",
            "Accuracy acore (validation):0.895\n",
            "Learning rate:  0.25\n",
            "Accuracy score (training):0.938\n",
            "Accuracy acore (validation):0.895\n",
            "Learning rate:  0.75\n",
            "Accuracy score (training):0.938\n",
            "Accuracy acore (validation):0.895\n",
            "Learning rate:  1\n",
            "Accuracy score (training):0.938\n",
            "Accuracy acore (validation):0.895\n"
          ]
        }
      ]
    },
    {
      "cell_type": "code",
      "source": [],
      "metadata": {
        "id": "FL-NgLzKYeG0"
      },
      "execution_count": null,
      "outputs": []
    }
  ]
}